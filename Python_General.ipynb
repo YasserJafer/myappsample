{
 "cells": [
  {
   "cell_type": "code",
   "execution_count": 32,
   "metadata": {},
   "outputs": [
    {
     "data": {
      "text/plain": [
       "0.26666666666666666"
      ]
     },
     "execution_count": 32,
     "metadata": {},
     "output_type": "execute_result"
    }
   ],
   "source": [
    "from sklearn.metrics import f1_score\n",
    "y_true = [0, 1, 2, 0, 1, 2]\n",
    "y_pred = [0, 2, 1, 0, 0, 1]\n",
    "f1_score(y_true, y_pred, average='macro')  \n"
   ]
  },
  {
   "cell_type": "code",
   "execution_count": 34,
   "metadata": {},
   "outputs": [
    {
     "name": "stderr",
     "output_type": "stream",
     "text": [
      "[WARNING] [Config      ] Older configuration version detected (0 instead of 20)\n",
      "[WARNING] [Config      ] Upgrading configuration in progress.\n",
      "[INFO   ] [Logger      ] Record log in C:\\Users\\yjafer\\.kivy\\logs\\kivy_18-08-31_0.txt\n",
      "[INFO   ] [Kivy        ] v1.10.1\n",
      "[INFO   ] [Python      ] v3.6.1 |Anaconda custom (64-bit)| (default, May 11 2017, 13:25:24) [MSC v.1900 64 bit (AMD64)]\n",
      "[INFO   ] [Factory     ] 194 symbols loaded\n",
      "[INFO   ] [Image       ] Providers: img_tex, img_dds, img_pil, img_gif (img_sdl2, img_ffpyplayer ignored)\n",
      "[INFO   ] [Text        ] Provider: pil(['text_sdl2'] ignored)\n",
      "[CRITICAL] [Window      ] Unable to find any valuable Window provider.\n",
      "sdl2 - ImportError: DLL load failed: The specified module could not be found.\n",
      "  File \"C:\\Users\\yjafer\\AppData\\Local\\Continuum\\Anaconda3\\lib\\site-packages\\kivy\\core\\__init__.py\", line 59, in core_select_lib\n",
      "    fromlist=[modulename], level=0)\n",
      "  File \"C:\\Users\\yjafer\\AppData\\Local\\Continuum\\Anaconda3\\lib\\site-packages\\kivy\\core\\window\\window_sdl2.py\", line 26, in <module>\n",
      "    from kivy.core.window._window_sdl2 import _WindowSDL2Storage\n",
      "\n",
      "[CRITICAL] [App         ] Unable to get a Window, abort.\n"
     ]
    },
    {
     "ename": "SystemExit",
     "evalue": "1",
     "output_type": "error",
     "traceback": [
      "An exception has occurred, use %tb to see the full traceback.\n",
      "\u001b[1;31mSystemExit\u001b[0m\u001b[1;31m:\u001b[0m 1\n"
     ]
    },
    {
     "name": "stderr",
     "output_type": "stream",
     "text": [
      " C:\\Users\\yjafer\\AppData\\Local\\Continuum\\Anaconda3\\lib\\site-packages\\IPython\\core\\interactiveshell.py:2889: UserWarning: To exit: use 'exit', 'quit', or Ctrl-D.\n",
      "   warn(\"To exit: use 'exit', 'quit', or Ctrl-D.\", stacklevel=1)\n"
     ]
    }
   ],
   "source": [
    "from kivy.app import App\n",
    "from kivy.uix.button import Button\n",
    "\n",
    "class TestApp(App):\n",
    "    def build(self):\n",
    "        return Button(text='Hello World')\n",
    "\n",
    "TestApp().run()"
   ]
  },
  {
   "cell_type": "code",
   "execution_count": null,
   "metadata": {
    "collapsed": true
   },
   "outputs": [],
   "source": []
  }
 ],
 "metadata": {
  "kernelspec": {
   "display_name": "Python 3",
   "language": "python",
   "name": "python3"
  },
  "language_info": {
   "codemirror_mode": {
    "name": "ipython",
    "version": 3
   },
   "file_extension": ".py",
   "mimetype": "text/x-python",
   "name": "python",
   "nbconvert_exporter": "python",
   "pygments_lexer": "ipython3",
   "version": "3.6.1"
  }
 },
 "nbformat": 4,
 "nbformat_minor": 2
}
